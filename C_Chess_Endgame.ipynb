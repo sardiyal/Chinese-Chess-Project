{
 "cells": [
  {
   "cell_type": "code",
   "execution_count": 1,
   "metadata": {},
   "outputs": [],
   "source": [
    "unit_pieces = {\n",
    "    'K': u\"帥\",\n",
    "    'k': u\"將\",\n",
    "    'A': u\"仕\",\n",
    "    'a': u\"士\",\n",
    "    'B': u\"相\",\n",
    "    'b': u\"象\",\n",
    "    'N': u\"馬\",\n",
    "    'n': u\"碼\",\n",
    "    'R': u\"車\",\n",
    "    'r': u\"硨\",\n",
    "    'C': u\"炮\",\n",
    "    'c': u\"砲\",\n",
    "    'P': u\"兵\",\n",
    "    'p': u\"卒\",\n",
    "    '.': u' .',\n",
    "}"
   ]
  },
  {
   "cell_type": "code",
   "execution_count": 2,
   "metadata": {},
   "outputs": [],
   "source": [
    "# Globals\n",
    "red, black = 0, 1\n",
    "top, left = 2, 2\n",
    "lineWidth, lineHeight = 13, 14\n",
    "bottom, right = top + lineHeight, left + lineWidth"
   ]
  },
  {
   "cell_type": "code",
   "execution_count": 3,
   "metadata": {},
   "outputs": [],
   "source": [
    "## board represented in a 182 character string. Extra borders for fast detections of out-of-bound movements.\n",
    "\n",
    "board_init = (\n",
    "    '            \\n'  #   0 - 12\n",
    "    '            \\n'  #  13 - 25\n",
    "    '  rnbakabnr \\n'  #  26 - 38\n",
    "    '  ......... \\n'  #  39 - 51\n",
    "    '  .c.....c. \\n'  #  52 - 64\n",
    "    '  p.p.p.p.p \\n'  #  65 - 77\n",
    "    '  ......... \\n'  #  78 - 90 \n",
    "    '  ......... \\n'  #  91 - 103\n",
    "    '  P.P.P.P.P \\n'  # 104 - 116\n",
    "    '  .C.....C. \\n'  # 117 - 129\n",
    "    '  ......... \\n'  # 130 - 142\n",
    "    '  RNBAKABNR \\n'  # 143 - 155\n",
    "    '            \\n'  # 156 - 168\n",
    "    '            \\n'  # 169 - 181\n",
    ")"
   ]
  },
  {
   "cell_type": "code",
   "execution_count": 6,
   "metadata": {},
   "outputs": [],
   "source": [
    "# All possible moves for all pieces except R and C.\n",
    "\n",
    "p_PreMove = (-13, -1, 1)\n",
    "k_PreMove = (-13, 13, -1, 1)\n",
    "a_PreMove = (-14, -12, 12, 14)\n",
    "b_PreMove = ((-24,-12), (-28, -14), (24, 12), (28, 14))\n",
    "n_PreMove = ((-27,-13), (-25,-13), (-15, -1), (-11, 1), (11, -1), (15, 1), (25,13), (27, 13))"
   ]
  },
  {
   "cell_type": "code",
   "execution_count": null,
   "metadata": {},
   "outputs": [],
   "source": []
  },
  {
   "cell_type": "code",
   "execution_count": null,
   "metadata": {},
   "outputs": [],
   "source": []
  }
 ],
 "metadata": {
  "kernelspec": {
   "display_name": "Python 3",
   "language": "python",
   "name": "python3"
  },
  "language_info": {
   "codemirror_mode": {
    "name": "ipython",
    "version": 3
   },
   "file_extension": ".py",
   "mimetype": "text/x-python",
   "name": "python",
   "nbconvert_exporter": "python",
   "pygments_lexer": "ipython3",
   "version": "3.7.3"
  }
 },
 "nbformat": 4,
 "nbformat_minor": 2
}
